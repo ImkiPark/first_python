{
 "cells": [
  {
   "cell_type": "code",
   "execution_count": 5,
   "id": "7a8363cd",
   "metadata": {},
   "outputs": [
    {
     "data": {
      "text/plain": [
       "int"
      ]
     },
     "execution_count": 5,
     "metadata": {},
     "output_type": "execute_result"
    }
   ],
   "source": [
    "a = 10\n",
    "float(a)\n",
    "type(a)"
   ]
  },
  {
   "cell_type": "code",
   "execution_count": 6,
   "id": "55edc851",
   "metadata": {},
   "outputs": [
    {
     "data": {
      "text/plain": [
       "float"
      ]
     },
     "execution_count": 6,
     "metadata": {},
     "output_type": "execute_result"
    }
   ],
   "source": [
    "x = float(a)\n",
    "type(x)"
   ]
  },
  {
   "cell_type": "code",
   "execution_count": 7,
   "id": "ee62f8be",
   "metadata": {},
   "outputs": [
    {
     "name": "stdout",
     "output_type": "stream",
     "text": [
      "In Fn :  Hello.\n",
      "Out Fn : Hi. \n"
     ]
    }
   ],
   "source": [
    "def print_greetings(t):\n",
    "    t = 'Hello.'\n",
    "    print(\"In Fn : \", t)\n",
    "\n",
    "x = 'Hi. '\n",
    "print_greetings(x)\n",
    "print('Out Fn :', x)"
   ]
  },
  {
   "cell_type": "code",
   "execution_count": null,
   "id": "ceb1bcf6",
   "metadata": {},
   "outputs": [],
   "source": []
  }
 ],
 "metadata": {
  "kernelspec": {
   "display_name": "Python 3",
   "language": "python",
   "name": "python3"
  },
  "language_info": {
   "codemirror_mode": {
    "name": "ipython",
    "version": 3
   },
   "file_extension": ".py",
   "mimetype": "text/x-python",
   "name": "python",
   "nbconvert_exporter": "python",
   "pygments_lexer": "ipython3",
   "version": "3.8.8"
  }
 },
 "nbformat": 4,
 "nbformat_minor": 5
}
