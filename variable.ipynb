{
 "cells": [
  {
   "cell_type": "code",
   "execution_count": 1,
   "id": "db40acdd",
   "metadata": {},
   "outputs": [
    {
     "data": {
      "text/plain": [
       "10"
      ]
     },
     "execution_count": 1,
     "metadata": {},
     "output_type": "execute_result"
    }
   ],
   "source": [
    "a=5\n",
    "b=3\n",
    "c=a+5\n",
    "c"
   ]
  },
  {
   "cell_type": "markdown",
   "id": "8ebbf45c",
   "metadata": {},
   "source": [
    "* 변수 = 값 : 변수에 값을 넣어라\n",
    "    - 변수 : 값을 저장하는 장소, 메모리 주소를 가지고 있으며 변수에 들어가는 값은 메모리 주소에 할당 된다.\n",
    "    - 선언 되는 순간 메모리 특정영역에 물리적인 공간이 할당 된다.\n",
    "    - 변수에는 값이 할당되고 해당 값은 메모리에 저장됨\n",
    "    - 변수명은 의미 있는 단어로 표기하는 것이 좋다\n",
    "    - 변수명은 대소문자가 구분된다.\n",
    "    - 특별한 의미가 있는 예약어는 변수명으로 쓰지 않는다."
   ]
  },
  {
   "cell_type": "code",
   "execution_count": 5,
   "id": "a61bb14b",
   "metadata": {},
   "outputs": [
    {
     "name": "stdout",
     "output_type": "stream",
     "text": [
      "one two\n",
      "one two\n",
      "1 2\n",
      "1 2\n"
     ]
    }
   ],
   "source": [
    "print('%s %s' % ('one', 'two'))\n",
    "print('{} {}'.format('one', 'two'))\n",
    "print('%d %d' %(1,2))\n",
    "print('{} {}'.format(1,2))"
   ]
  },
  {
   "cell_type": "markdown",
   "id": "13c8e47b",
   "metadata": {},
   "source": [
    "--------"
   ]
  },
  {
   "cell_type": "markdown",
   "id": "6e31f8ca",
   "metadata": {},
   "source": [
    "----------------------------"
   ]
  },
  {
   "cell_type": "markdown",
   "id": "19a81d8b",
   "metadata": {},
   "source": [
    "## 함수의 개요"
   ]
  },
  {
   "cell_type": "markdown",
   "id": "2789a353",
   "metadata": {},
   "source": [
    "### 어떤 일을 수행하는 코드의 덩어리"
   ]
  },
  {
   "cell_type": "markdown",
   "id": "834b9bf2",
   "metadata": {},
   "source": [
    "사각형의 넓이를 구하는 함수"
   ]
  },
  {
   "cell_type": "code",
   "execution_count": 8,
   "id": "ccb9b147",
   "metadata": {},
   "outputs": [],
   "source": [
    "def calculate_rectangle_area (x, y):\n",
    "    return x * y                   # 가로, 세로를 곱해서 반환"
   ]
  },
  {
   "cell_type": "code",
   "execution_count": 9,
   "id": "8b8d219a",
   "metadata": {},
   "outputs": [
    {
     "data": {
      "text/plain": [
       "8"
      ]
     },
     "execution_count": 9,
     "metadata": {},
     "output_type": "execute_result"
    }
   ],
   "source": [
    "calculate_rectangle_area(4, 2)"
   ]
  },
  {
   "cell_type": "markdown",
   "id": "8085c130",
   "metadata": {},
   "source": [
    "### 반복적인 수행을 1회만 작성 후 호출\n",
    "### 코드를 논리적인 단위로 분리\n",
    "### 캡슐화 : 인터페이스만 알면 타인의 코드 사용\n",
    "### 함수이름, parameter, indentation, return value(optional)"
   ]
  },
  {
   "cell_type": "code",
   "execution_count": 11,
   "id": "6aba826f",
   "metadata": {},
   "outputs": [],
   "source": [
    "# def 함수이름 (parameter #1, ..., ):\n",
    "#     수행문 #1(statements)\n",
    "#     수행문 #2(statements)\n",
    "#     return <반환값>"
   ]
  },
  {
   "cell_type": "code",
   "execution_count": null,
   "id": "ab66e6db",
   "metadata": {},
   "outputs": [],
   "source": []
  },
  {
   "cell_type": "markdown",
   "id": "a316cf4d",
   "metadata": {},
   "source": [
    "---------------------"
   ]
  },
  {
   "cell_type": "code",
   "execution_count": null,
   "id": "7bba527a",
   "metadata": {},
   "outputs": [],
   "source": []
  },
  {
   "cell_type": "markdown",
   "id": "91746163",
   "metadata": {},
   "source": [
    "#### %-format\n",
    "\"%datatype\" %(variable) 형태로 양식을 표현"
   ]
  },
  {
   "cell_type": "code",
   "execution_count": 6,
   "id": "f6d81673",
   "metadata": {},
   "outputs": [
    {
     "name": "stdout",
     "output_type": "stream",
     "text": [
      "I eat 3 apples.\n",
      "I eat five apples.\n",
      "I ate 3 apples. I was sick for three days.\n",
      "Product : Apple, Price per unit : 5.243000.\n"
     ]
    }
   ],
   "source": [
    "print(\"I eat %d apples.\" % 3)\n",
    "print(\"I eat %s apples.\" % \"five\")\n",
    "number = 3\n",
    "day = \"three\"\n",
    "print(\"I ate %d apples. I was sick for %s days.\" % (number, day))\n",
    "print(\"Product : %s, Price per unit : %f.\" % (\"Apple\", 5.243))"
   ]
  },
  {
   "cell_type": "code",
   "execution_count": null,
   "id": "ff368d28",
   "metadata": {},
   "outputs": [],
   "source": []
  }
 ],
 "metadata": {
  "kernelspec": {
   "display_name": "Python 3",
   "language": "python",
   "name": "python3"
  },
  "language_info": {
   "codemirror_mode": {
    "name": "ipython",
    "version": 3
   },
   "file_extension": ".py",
   "mimetype": "text/x-python",
   "name": "python",
   "nbconvert_exporter": "python",
   "pygments_lexer": "ipython3",
   "version": "3.8.8"
  }
 },
 "nbformat": 4,
 "nbformat_minor": 5
}
