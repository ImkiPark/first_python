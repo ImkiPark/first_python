{
 "cells": [
  {
   "cell_type": "code",
   "execution_count": 2,
   "id": "daa289f6",
   "metadata": {},
   "outputs": [
    {
     "name": "stdout",
     "output_type": "stream",
     "text": [
      "hello world!! hello again!!!\n"
     ]
    }
   ],
   "source": [
    "print(\"hello world!!\", \"hello again!!!\")"
   ]
  },
  {
   "cell_type": "code",
   "execution_count": 3,
   "id": "8c6ab0ed",
   "metadata": {},
   "outputs": [
    {
     "name": "stdout",
     "output_type": "stream",
     "text": [
      "hello world! hello again!!! 150\n"
     ]
    }
   ],
   "source": [
    "print(\"hello world!\", \"hello again!!!\", 150)"
   ]
  },
  {
   "cell_type": "code",
   "execution_count": 5,
   "id": "ce91b436",
   "metadata": {},
   "outputs": [
    {
     "name": "stdout",
     "output_type": "stream",
     "text": [
      "hello world! hello again!!!150\n"
     ]
    }
   ],
   "source": [
    "print(\"hello world!\", \"hello again!!!\"+str(150))"
   ]
  },
  {
   "cell_type": "code",
   "execution_count": 6,
   "id": "db35b992",
   "metadata": {},
   "outputs": [
    {
     "name": "stdout",
     "output_type": "stream",
     "text": [
      "온도를 입력하세요 : 0.5\n",
      "온도는  0.5 입니다.\n",
      "<class 'float'>\n"
     ]
    }
   ],
   "source": [
    "temp = float(input(\"온도를 입력하세요 : \"))\n",
    "print(\"온도는 \", temp, \"입니다.\")\n",
    "print(type(temp))"
   ]
  },
  {
   "cell_type": "code",
   "execution_count": 19,
   "id": "1a03fdd2",
   "metadata": {},
   "outputs": [
    {
     "name": "stdout",
     "output_type": "stream",
     "text": [
      "hello, imki. You are 47.\n",
      "imki                47\n",
      "                imki\n",
      "imki****************\n",
      "****************imki\n",
      "@@@@@@@@imki@@@@@@@@\n",
      "00000000000000003.14\n"
     ]
    }
   ],
   "source": [
    "name = 'imki'\n",
    "age = 47\n",
    "print(f\"hello, {name}. You are {age}.\")\n",
    "print(f'{name:20}{age}')\n",
    "print(f'{name:>20}')\n",
    "print(f'{name:*<20}')\n",
    "print(f'{name:*>20}')\n",
    "print(f'{name:@^20}')\n",
    "\n",
    "number = 3.141592653589793\n",
    "print(f'{number:0>20.2f}')"
   ]
  },
  {
   "cell_type": "code",
   "execution_count": 17,
   "id": "09c65db7",
   "metadata": {},
   "outputs": [
    {
     "name": "stdout",
     "output_type": "stream",
     "text": [
      "가로 길이 : 11\n",
      "세로 길이 : 11\n",
      "사각형 넓이 : 121\n"
     ]
    }
   ],
   "source": [
    "def rectangle_area(x, y):\n",
    "    return x * y\n",
    "\n",
    "x = int(input('가로 길이 : '))\n",
    "y = int(input('세로 길이 : '))\n",
    "\n",
    "print('사각형 넓이 :', rectangle_area(x, y))"
   ]
  },
  {
   "cell_type": "code",
   "execution_count": 33,
   "id": "f4c6afa8",
   "metadata": {},
   "outputs": [
    {
     "name": "stdout",
     "output_type": "stream",
     "text": [
      "본 프로그램은 섭씨를 화씨로 변환해주는 프로그램입니다.\n",
      "변환하고 싶은 섭씨 온도를 입력해 주세요 : -11\n",
      "섭씨온도 : -11.0\n",
      "화씨온도 : 12.20\n"
     ]
    }
   ],
   "source": [
    "# fahrenheit convert\n",
    "def fahrenheit(x):\n",
    "    return ((9/5)*x) + 32\n",
    "\n",
    "\n",
    "print(\"본 프로그램은 섭씨를 화씨로 변환해주는 프로그램입니다.\")\n",
    "x = float(input(\"변환하고 싶은 섭씨 온도를 입력해 주세요 : \"))\n",
    "f = fahrenheit(x)\n",
    "print(f'섭씨온도 : {x:.1f}')\n",
    "print(f'화씨온도 : {f:.2f}')"
   ]
  },
  {
   "cell_type": "code",
   "execution_count": null,
   "id": "e46597b0",
   "metadata": {},
   "outputs": [],
   "source": []
  }
 ],
 "metadata": {
  "kernelspec": {
   "display_name": "Python 3",
   "language": "python",
   "name": "python3"
  },
  "language_info": {
   "codemirror_mode": {
    "name": "ipython",
    "version": 3
   },
   "file_extension": ".py",
   "mimetype": "text/x-python",
   "name": "python",
   "nbconvert_exporter": "python",
   "pygments_lexer": "ipython3",
   "version": "3.8.8"
  }
 },
 "nbformat": 4,
 "nbformat_minor": 5
}
